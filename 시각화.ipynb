{
 "cells": [
  {
   "cell_type": "code",
   "execution_count": null,
   "metadata": {},
   "outputs": [],
   "source": [
    "import os\n",
    "import json\n",
    "import cv2\n",
    "\n",
    "\n",
    "def imshow(img):\n",
    "    import cv2\n",
    "    import IPython\n",
    "    _,ret = cv2.imencode('.jpg', img) \n",
    "    i = IPython.display.Image(data=ret)\n",
    "    IPython.display.display(i)\n",
    "\n",
    "\n",
    "with open('./output/inference/text_results.json', 'r') as f:\n",
    "\n",
    "    json_data = json.load(f)\n",
    "\n",
    "# print(json.dumps(json_data) )\n",
    "# print(type(json_data),len(json_data))\n",
    "print(json_data[0].keys())\n",
    "\n",
    "# print(json_data[0]['image_id'])\n",
    "# print(json_data[0]['polys'])\n"
   ]
  },
  {
   "cell_type": "code",
   "execution_count": null,
   "metadata": {},
   "outputs": [],
   "source": [
    "with open('./datasets/totaltext/totaltext_test.json', 'r') as f:\n",
    "    test_data = json.load(f)\n",
    "\n",
    "\n",
    "id2img={}\n",
    "path2id={}\n",
    "\n",
    "for item in test_data['images']:\n",
    "    id2img[item['id']] = cv2.imread(\"./datasets/totaltext/totaltext_test_images/\"+item['file_name'])\n",
    "    path2id[\"./datasets/totaltext/totaltext_test_images/\"+item['file_name']] = item['id']\n",
    "\n",
    "# print(id2img)\n",
    "# print(path2id)\n"
   ]
  },
  {
   "cell_type": "code",
   "execution_count": null,
   "metadata": {},
   "outputs": [],
   "source": [
    "\n",
    "color_map = [(255,0,0),(0,255,0),(0,0,255),(255,255,0),(255,0,255),(0,255,255),(127,0,0),(0,127,0),(0,0,127),(127,127,0),(127,0,127),(0,127,127),(0,127,127)]\n",
    "count = 0\n",
    "j = 0\n",
    "\n",
    "th_var = 0.2\n",
    "\n",
    "\n",
    "for item in json_data:\n",
    "    # img = id2img[item['image_id']]\n",
    "    j+=1\n",
    "    object_color = color_map[j % len(color_map)]\n",
    "    \n",
    "    if item['score'] > th_var:\n",
    "        # print(item)\n",
    "        for i in range(0,len(item['polys'])-1):\n",
    "            if i==(len(item['polys'])-2):\n",
    "                p1_x,p1_y = item['polys'][0]\n",
    "                p2_x,p2_y = item['polys'][-1]\n",
    "                # print((int(p1_x),int(p1_y)),(int(p2_x),int(p2_y)))\n",
    "            else:\n",
    "                p1_x,p1_y = item['polys'][i]\n",
    "                p2_x,p2_y = item['polys'][i+1]\n",
    "            \n",
    "            cv2.line(id2img[item['image_id']],(int(p1_x),int(p1_y)),(int(p2_x),int(p2_y)),object_color,3)\n",
    "        \n",
    "        \n",
    " \n",
    "    # if item['image_id']!=0:\n",
    "    #     break\n",
    "    # print(item['image_id'],item['rec'])\n",
    "    # if item['image_id']==0:"
   ]
  },
  {
   "cell_type": "code",
   "execution_count": null,
   "metadata": {},
   "outputs": [],
   "source": [
    "save_dir = \"./datasets/totaltext/totaltext_test_images2\"\n",
    "for i,key in enumerate(id2img.keys()):\n",
    "    cv2.imwrite(save_dir+\"/\"+str(i)+\".jpg\",id2img[key])\n",
    "    "
   ]
  },
  {
   "cell_type": "code",
   "execution_count": null,
   "metadata": {},
   "outputs": [],
   "source": []
  },
  {
   "cell_type": "code",
   "execution_count": null,
   "metadata": {},
   "outputs": [],
   "source": []
  },
  {
   "cell_type": "code",
   "execution_count": null,
   "metadata": {},
   "outputs": [],
   "source": []
  },
  {
   "cell_type": "code",
   "execution_count": null,
   "metadata": {},
   "outputs": [],
   "source": []
  }
 ],
 "metadata": {
  "language_info": {
   "name": "python"
  },
  "orig_nbformat": 4
 },
 "nbformat": 4,
 "nbformat_minor": 2
}
